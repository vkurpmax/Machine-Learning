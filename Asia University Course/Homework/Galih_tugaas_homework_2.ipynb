{
  "nbformat": 4,
  "nbformat_minor": 0,
  "metadata": {
    "colab": {
      "provenance": [],
      "collapsed_sections": [],
      "include_colab_link": true
    },
    "kernelspec": {
      "name": "python3",
      "display_name": "Python 3"
    },
    "language_info": {
      "name": "python"
    }
  },
  "cells": [
    {
      "cell_type": "markdown",
      "metadata": {
        "id": "view-in-github",
        "colab_type": "text"
      },
      "source": [
        "<a href=\"https://colab.research.google.com/github/vkurpmax/Machine-Learning/blob/main/Asia%20University%20Course/Homework/Galih_tugaas_homework_2.ipynb\" target=\"_parent\"><img src=\"https://colab.research.google.com/assets/colab-badge.svg\" alt=\"Open In Colab\"/></a>"
      ]
    },
    {
      "cell_type": "code",
      "execution_count": null,
      "metadata": {
        "id": "p8fpvqcZBfug"
      },
      "outputs": [],
      "source": [
        "import matplotlib.pyplot as plt\n",
        "import numpy as np\n",
        "\n",
        "class Perceptron(object):\n",
        "  def __init__(self, eta=0.001, n_iter=50, random_state=1):\n",
        "    self.eta = eta\n",
        "    self.n_iter = n_iter\n",
        "    self.random_state = random_state\n",
        "  \n",
        "  def net_input(self, X):\n",
        "    return np.dot(X, self.w_[1:]) + self.w_[0]\n",
        "  \n",
        "  def predict(self, X):\n",
        "    return np.where(self.net_input(X) >= 0.0, 1, -1)\n",
        "  \n",
        "  def fit(self, X, y):\n",
        "    rgen = np.random.RandomState(self.random_state)\n",
        "    self.w_ = rgen.normal(loc=0.0, scale=0.01, size = 1 + X.shape[1])\n",
        "    self.errors_ = []\n",
        "    for _ in range(self.n_iter):\n",
        "      errors = 0\n",
        "      \n",
        "      for xi, target in zip(X,y):\n",
        "        update = self.eta * (target - self.predict(xi))\n",
        "        self.w_[1:] += update * xi\n",
        "        self.w_[0] += update\n",
        "        errors += int(update != 0.0)\n",
        "      self.errors_.append(errors)\n",
        "    return self"
      ]
    },
    {
      "cell_type": "code",
      "source": [
        "def target_function(list_x):\n",
        "  result = []\n",
        "  for (x1, x2) in list_x:\n",
        "    y = int(x1 > x2) # ganti target function dengan komparasi terserah Anda\n",
        "    result.append(y)\n",
        "  return np.asarray(result).flatten()\n",
        "\n",
        "list_x = np.random.randint(-10, 10, size=(40, 2)) # ganti -10 dan 10 dengan angka seterah Anda\n",
        "list_y = target_function(list_x)\n",
        "print(list_x)\n",
        "print(list_y)"
      ],
      "metadata": {
        "colab": {
          "base_uri": "https://localhost:8080/"
        },
        "id": "6aNPDB6Oo7n1",
        "outputId": "7396f4b6-f09e-4b35-aeb0-9e01f892ed93"
      },
      "execution_count": null,
      "outputs": [
        {
          "output_type": "stream",
          "name": "stdout",
          "text": [
            "[[  7   0]\n",
            " [ -2  -7]\n",
            " [ -9   0]\n",
            " [  4   3]\n",
            " [  5  -2]\n",
            " [-10   8]\n",
            " [ -1   0]\n",
            " [ -3 -10]\n",
            " [  9  -2]\n",
            " [  8  -1]\n",
            " [ -1  -2]\n",
            " [  6 -10]\n",
            " [  4  -6]\n",
            " [  1  -1]\n",
            " [  5   9]\n",
            " [  2  -2]\n",
            " [  7  -7]\n",
            " [-10  -8]\n",
            " [ -2  -5]\n",
            " [  2   4]\n",
            " [  0  -4]\n",
            " [ -6  -3]\n",
            " [-10  -9]\n",
            " [  8  -5]\n",
            " [ -8   4]\n",
            " [ -2   7]\n",
            " [  2   5]\n",
            " [ -5  -4]\n",
            " [  6 -10]\n",
            " [ -8   0]\n",
            " [ -1   8]\n",
            " [ -1  -4]\n",
            " [  3  -2]\n",
            " [  5 -10]\n",
            " [-10  -5]\n",
            " [ -3   2]\n",
            " [  4   6]\n",
            " [  6  -3]\n",
            " [ -7   4]\n",
            " [  6   9]]\n",
            "[1 1 0 1 1 0 0 1 1 1 1 1 1 1 0 1 1 0 1 0 1 0 0 1 0 0 0 0 1 0 0 1 1 1 0 0 0\n",
            " 1 0 0]\n"
          ]
        }
      ]
    },
    {
      "cell_type": "code",
      "source": [
        "plot = list_x.transpose()\n",
        "plt.scatter(plot[0], plot[1], color=np.where(list_y == 1, 'blue', 'red'))"
      ],
      "metadata": {
        "colab": {
          "base_uri": "https://localhost:8080/",
          "height": 282
        },
        "id": "vU_SCNjro_c3",
        "outputId": "840a7221-f88d-49c4-a8cb-9b7615eb4f7d"
      },
      "execution_count": null,
      "outputs": [
        {
          "output_type": "execute_result",
          "data": {
            "text/plain": [
              "<matplotlib.collections.PathCollection at 0x7f816d142290>"
            ]
          },
          "metadata": {},
          "execution_count": 4
        },
        {
          "output_type": "display_data",
          "data": {
            "text/plain": [
              "<Figure size 432x288 with 1 Axes>"
            ],
            "image/png": "[encoded data removed]"
          },
          "metadata": {
            "needs_background": "light"
          }
        }
      ]
    },
    {
      "cell_type": "code",
      "source": [
        "ppn = Perceptron(eta=0.1, n_iter=10)\n",
        "ppn.fit(list_x, list_y)\n",
        "plt.plot(range(1, len(ppn.errors_) + 1), ppn.errors_, marker='o')\n",
        "plt.xlabel('Epochs')\n",
        "plt.ylabel('Number of updates')\n",
        "plt.show()"
      ],
      "metadata": {
        "colab": {
          "base_uri": "https://localhost:8080/",
          "height": 279
        },
        "id": "YSYhxStYpBdP",
        "outputId": "192248a1-5a3e-4456-f9c8-f7b42f846a60"
      },
      "execution_count": null,
      "outputs": [
        {
          "output_type": "display_data",
          "data": {
            "text/plain": [
              "<Figure size 432x288 with 1 Axes>"
            ],
            "image/png": "[encoded data removed]"
          },
          "metadata": {
            "needs_background": "light"
          }
        }
      ]
    },
    {
      "cell_type": "code",
      "source": [
        "# import pandas as pd\n",
        "# import numpy as np\n",
        "# from sklearn.model_selection import train_test_split\n",
        "# from sklearn.preprocessing import StandardScaler\n",
        "# from IPython.display import display\n",
        "# from sklearn.linear_model import Perceptron\n",
        "# from sklearn.metrics import accuracy_score\n",
        "# from matplotlib.colors import ListedColormap \n",
        "# import matplotlib.pyplot as plt \n",
        "\n",
        "# df = pd.read_csv('https://archive.ics.uci.edu/ml/'\n",
        "#         'machine-learning-databases/iris/iris.data', header=None)\n",
        "# df.columns = ['Sepal length', 'Sepal width', 'Petal length', 'Petal width', 'Class label']\n",
        "# display(df.loc[:])\n",
        "\n",
        "# X = df[['Petal length', 'Petal width']].values\n",
        "# y = pd.factorize(df['Class label'])[0]\n",
        "\n",
        "# # discard exmaples in the first class\n",
        "# X = X[50:150]\n",
        "# y = np.where(y[50:150] == 2, -1, y[50:150])\n",
        "\n",
        "# X_train, X_test, y_train, y_test = train_test_split(X, y, test_size=0.3, random_state=1)\n",
        "\n",
        "# sc = StandardScaler()\n",
        "# sc.fit(X_train)\n",
        "# X_train_std = sc.transform(X_train)\n",
        "# X_test_std = sc.transform(X_test)\n",
        "\n",
        "\n",
        "# ppn = Perceptron(eta0=0.1, random_state=1) \n",
        "# ppn.fit(X_train_std, y_train)\n",
        "# y_pred = ppn.predict(X_test_std)\n",
        "\n",
        "# print('Misclassified examples: %d' %(y_test != y_pred).sum())\n",
        "# print('Accuracy: %.3f' % accuracy_score(y_test, y_pred))\n",
        "# print('Accuracy: %.3f' % ppn.score(X_test_std, y_test))\n",
        "\n",
        "# print('#Training data points: %d' % X_train.shape[0])\n",
        "# print('#Testing data points: %d' % X_test.shape[0])\n",
        "# print('Class labels: %s' % np.unique(y))"
      ],
      "metadata": {
        "colab": {
          "base_uri": "https://localhost:8080/",
          "height": 528
        },
        "id": "ajnQZT1eRjNG",
        "outputId": "c3ab537b-e005-4f51-df4e-6df564cc01f5"
      },
      "execution_count": null,
      "outputs": [
        {
          "output_type": "display_data",
          "data": {
            "text/plain": [
              "     Sepal length  Sepal width  Petal length  Petal width     Class label\n",
              "0             5.1          3.5           1.4          0.2     Iris-setosa\n",
              "1             4.9          3.0           1.4          0.2     Iris-setosa\n",
              "2             4.7          3.2           1.3          0.2     Iris-setosa\n",
              "3             4.6          3.1           1.5          0.2     Iris-setosa\n",
              "4             5.0          3.6           1.4          0.2     Iris-setosa\n",
              "..            ...          ...           ...          ...             ...\n",
              "145           6.7          3.0           5.2          2.3  Iris-virginica\n",
              "146           6.3          2.5           5.0          1.9  Iris-virginica\n",
              "147           6.5          3.0           5.2          2.0  Iris-virginica\n",
              "148           6.2          3.4           5.4          2.3  Iris-virginica\n",
              "149           5.9          3.0           5.1          1.8  Iris-virginica\n",
              "\n",
              "[150 rows x 5 columns]"
            ],
            "text/html": [
              "\n",
              "  <div id=\"df-af4795bf-dda9-433f-8658-355610c6a192\">\n",
              "    <div class=\"colab-df-container\">\n",
              "      <div>\n",
              "<style scoped>\n",
              "    .dataframe tbody tr th:only-of-type {\n",
              "        vertical-align: middle;\n",
              "    }\n",
              "\n",
              "    .dataframe tbody tr th {\n",
              "        vertical-align: top;\n",
              "    }\n",
              "\n",
              "    .dataframe thead th {\n",
              "        text-align: right;\n",
              "    }\n",
              "</style>\n",
              "<table border=\"1\" class=\"dataframe\">\n",
              "  <thead>\n",
              "    <tr style=\"text-align: right;\">\n",
              "      <th></th>\n",
              "      <th>Sepal length</th>\n",
              "      <th>Sepal width</th>\n",
              "      <th>Petal length</th>\n",
              "      <th>Petal width</th>\n",
              "      <th>Class label</th>\n",
              "    </tr>\n",
              "  </thead>\n",
              "  <tbody>\n",
              "    <tr>\n",
              "      <th>0</th>\n",
              "      <td>5.1</td>\n",
              "      <td>3.5</td>\n",
              "      <td>1.4</td>\n",
              "      <td>0.2</td>\n",
              "      <td>Iris-setosa</td>\n",
              "    </tr>\n",
              "    <tr>\n",
              "      <th>1</th>\n",
              "      <td>4.9</td>\n",
              "      <td>3.0</td>\n",
              "      <td>1.4</td>\n",
              "      <td>0.2</td>\n",
              "      <td>Iris-setosa</td>\n",
              "    </tr>\n",
              "    <tr>\n",
              "      <th>2</th>\n",
              "      <td>4.7</td>\n",
              "      <td>3.2</td>\n",
              "      <td>1.3</td>\n",
              "      <td>0.2</td>\n",
              "      <td>Iris-setosa</td>\n",
              "    </tr>\n",
              "    <tr>\n",
              "      <th>3</th>\n",
              "      <td>4.6</td>\n",
              "      <td>3.1</td>\n",
              "      <td>1.5</td>\n",
              "      <td>0.2</td>\n",
              "      <td>Iris-setosa</td>\n",
              "    </tr>\n",
              "    <tr>\n",
              "      <th>4</th>\n",
              "      <td>5.0</td>\n",
              "      <td>3.6</td>\n",
              "      <td>1.4</td>\n",
              "      <td>0.2</td>\n",
              "      <td>Iris-setosa</td>\n",
              "    </tr>\n",
              "    <tr>\n",
              "      <th>...</th>\n",
              "      <td>...</td>\n",
              "      <td>...</td>\n",
              "      <td>...</td>\n",
              "      <td>...</td>\n",
              "      <td>...</td>\n",
              "    </tr>\n",
              "    <tr>\n",
              "      <th>145</th>\n",
              "      <td>6.7</td>\n",
              "      <td>3.0</td>\n",
              "      <td>5.2</td>\n",
              "      <td>2.3</td>\n",
              "      <td>Iris-virginica</td>\n",
              "    </tr>\n",
              "    <tr>\n",
              "      <th>146</th>\n",
              "      <td>6.3</td>\n",
              "      <td>2.5</td>\n",
              "      <td>5.0</td>\n",
              "      <td>1.9</td>\n",
              "      <td>Iris-virginica</td>\n",
              "    </tr>\n",
              "    <tr>\n",
              "      <th>147</th>\n",
              "      <td>6.5</td>\n",
              "      <td>3.0</td>\n",
              "      <td>5.2</td>\n",
              "      <td>2.0</td>\n",
              "      <td>Iris-virginica</td>\n",
              "    </tr>\n",
              "    <tr>\n",
              "      <th>148</th>\n",
              "      <td>6.2</td>\n",
              "      <td>3.4</td>\n",
              "      <td>5.4</td>\n",
              "      <td>2.3</td>\n",
              "      <td>Iris-virginica</td>\n",
              "    </tr>\n",
              "    <tr>\n",
              "      <th>149</th>\n",
              "      <td>5.9</td>\n",
              "      <td>3.0</td>\n",
              "      <td>5.1</td>\n",
              "      <td>1.8</td>\n",
              "      <td>Iris-virginica</td>\n",
              "    </tr>\n",
              "  </tbody>\n",
              "</table>\n",
              "<p>150 rows × 5 columns</p>\n",
              "</div>\n",
              "      <button class=\"colab-df-convert\" onclick=\"convertToInteractive('df-af4795bf-dda9-433f-8658-355610c6a192')\"\n",
              "              title=\"Convert this dataframe to an interactive table.\"\n",
              "              style=\"display:none;\">\n",
              "        \n",
              "  <svg xmlns=\"http://www.w3.org/2000/svg\" height=\"24px\"viewBox=\"0 0 24 24\"\n",
              "       width=\"24px\">\n",
              "    <path d=\"M0 0h24v24H0V0z\" fill=\"none\"/>\n",
              "    <path d=\"M18.56 5.44l.94 2.06.94-2.06 2.06-.94-2.06-.94-.94-2.06-.94 2.06-2.06.94zm-11 1L8.5 8.5l.94-2.06 2.06-.94-2.06-.94L8.5 2.5l-.94 2.06-2.06.94zm10 10l.94 2.06.94-2.06 2.06-.94-2.06-.94-.94-2.06-.94 2.06-2.06.94z\"/><path d=\"M17.41 7.96l-1.37-1.37c-.4-.4-.92-.59-1.43-.59-.52 0-1.04.2-1.43.59L10.3 9.45l-7.72 7.72c-.78.78-.78 2.05 0 2.83L4 21.41c.39.39.9.59 1.41.59.51 0 1.02-.2 1.41-.59l7.78-7.78 2.81-2.81c.8-.78.8-2.07 0-2.86zM5.41 20L4 18.59l7.72-7.72 1.47 1.35L5.41 20z\"/>\n",
              "  </svg>\n",
              "      </button>\n",
              "      \n",
              "  <style>\n",
              "    .colab-df-container {\n",
              "      display:flex;\n",
              "      flex-wrap:wrap;\n",
              "      gap: 12px;\n",
              "    }\n",
              "\n",
              "    .colab-df-convert {\n",
              "      background-color: #E8F0FE;\n",
              "      border: none;\n",
              "      border-radius: 50%;\n",
              "      cursor: pointer;\n",
              "      display: none;\n",
              "      fill: #1967D2;\n",
              "      height: 32px;\n",
              "      padding: 0 0 0 0;\n",
              "      width: 32px;\n",
              "    }\n",
              "\n",
              "    .colab-df-convert:hover {\n",
              "      background-color: #E2EBFA;\n",
              "      box-shadow: 0px 1px 2px rgba(60, 64, 67, 0.3), 0px 1px 3px 1px rgba(60, 64, 67, 0.15);\n",
              "      fill: #174EA6;\n",
              "    }\n",
              "\n",
              "    [theme=dark] .colab-df-convert {\n",
              "      background-color: #3B4455;\n",
              "      fill: #D2E3FC;\n",
              "    }\n",
              "\n",
              "    [theme=dark] .colab-df-convert:hover {\n",
              "      background-color: #434B5C;\n",
              "      box-shadow: 0px 1px 3px 1px rgba(0, 0, 0, 0.15);\n",
              "      filter: drop-shadow(0px 1px 2px rgba(0, 0, 0, 0.3));\n",
              "      fill: #FFFFFF;\n",
              "    }\n",
              "  </style>\n",
              "\n",
              "      <script>\n",
              "        const buttonEl =\n",
              "          document.querySelector('#df-af4795bf-dda9-433f-8658-355610c6a192 button.colab-df-convert');\n",
              "        buttonEl.style.display =\n",
              "          google.colab.kernel.accessAllowed ? 'block' : 'none';\n",
              "\n",
              "        async function convertToInteractive(key) {\n",
              "          const element = document.querySelector('#df-af4795bf-dda9-433f-8658-355610c6a192');\n",
              "          const dataTable =\n",
              "            await google.colab.kernel.invokeFunction('convertToInteractive',\n",
              "                                                     [key], {});\n",
              "          if (!dataTable) return;\n",
              "\n",
              "          const docLinkHtml = 'Like what you see? Visit the ' +\n",
              "            '<a target=\"_blank\" href=https://colab.research.google.com/notebooks/data_table.ipynb>data table notebook</a>'\n",
              "            + ' to learn more about interactive tables.';\n",
              "          element.innerHTML = '';\n",
              "          dataTable['output_type'] = 'display_data';\n",
              "          await google.colab.output.renderOutput(dataTable, element);\n",
              "          const docLink = document.createElement('div');\n",
              "          docLink.innerHTML = docLinkHtml;\n",
              "          element.appendChild(docLink);\n",
              "        }\n",
              "      </script>\n",
              "    </div>\n",
              "  </div>\n",
              "  "
            ]
          },
          "metadata": {}
        },
        {
          "output_type": "stream",
          "name": "stdout",
          "text": [
            "Misclassified examples: 3\n",
            "Accuracy: 0.900\n",
            "Accuracy: 0.900\n",
            "#Training data points: 70\n",
            "#Testing data points: 30\n",
            "Class labels: [-1  1]\n"
          ]
        }
      ]
    },
    {
      "cell_type": "code",
      "source": [
        "import pandas as pd\n",
        "import numpy as np\n",
        "from sklearn.model_selection import train_test_split\n",
        "from sklearn.preprocessing import StandardScaler\n",
        "from IPython.display import display\n",
        "from sklearn.linear_model import Perceptron\n",
        "from sklearn.metrics import accuracy_score\n",
        "from matplotlib.colors import ListedColormap \n",
        "import matplotlib.pyplot as plt\n",
        "\n",
        "from sklearn import datasets \n",
        "import numpy as np \n",
        "iris = datasets.load_iris()\n",
        "X = iris.data[:, [2, 3]]\n",
        "y = iris.target\n",
        "print('Class labels:', np.unique(y)) \n",
        "X_train, X_test, y_train, y_test = train_test_split(X, y, test_size=0.3, random_state=1, stratify=y)\n",
        "\n",
        "sc = StandardScaler()\n",
        "sc.fit(X_train)\n",
        "X_train_std = sc.transform(X_train)\n",
        "X_test_std = sc.transform(X_test)\n",
        "\n",
        "\n",
        "ppn = Perceptron(eta0=0.1, random_state=1) \n",
        "ppn.fit(X_train_std, y_train)\n",
        "y_pred = ppn.predict(X_test_std)\n",
        "\n",
        "print('Misclassified examples: %d' %(y_test != y_pred).sum())\n",
        "print('Accuracy: %.3f' % accuracy_score(y_test, y_pred))\n",
        "print('Accuracy: %.3f' % ppn.score(X_test_std, y_test))\n",
        "\n",
        "print('#Training data points: %d' % X_train.shape[0])\n",
        "print('#Testing data points: %d' % X_test.shape[0])\n",
        "print('Class labels: %s' % np.unique(y))"
      ],
      "metadata": {
        "colab": {
          "base_uri": "https://localhost:8080/"
        },
        "id": "IaP1AaHAvcnr",
        "outputId": "aabdb248-d433-4a9f-c185-43bdd8fd021f"
      },
      "execution_count": null,
      "outputs": [
        {
          "output_type": "stream",
          "name": "stdout",
          "text": [
            "Class labels: [0 1 2]\n",
            "Misclassified examples: 1\n",
            "Accuracy: 0.978\n",
            "Accuracy: 0.978\n",
            "#Training data points: 105\n",
            "#Testing data points: 45\n",
            "Class labels: [0 1 2]\n"
          ]
        }
      ]
    },
    {
      "cell_type": "code",
      "source": [
        "def plot_decision_regions(X, y, classifier, test_idx=None, resolution=0.02): \n",
        "  # setup marker generator and color map\n",
        "  markers = ('s', 'x', 'o', '^', 'v')\n",
        "  colors = ('red', 'blue', 'lightgreen', 'gray', 'cyan') \n",
        "  cmap = ListedColormap(colors[:len(np.unique(y))])\n",
        "  #plot the decision surface\n",
        "  x1_min, x1_max = X[:, 0].min() - 1, X[:, 0].max() + 1\n",
        "  x2_min, x2_max = X[:, 1].min() - 1, X[:, 1].max() + 1\n",
        "  xx1, xx2 = np.meshgrid(np.arange(x1_min, x1_max, resolution), np.arange(x2_min, x2_max, resolution))\n",
        "  Z = classifier.predict(np.array([xx1.ravel(), xx2.ravel()]).T) \n",
        "  Z = Z.reshape(xx1.shape)\n",
        "  plt.contourf(xx1, xx2, Z, alpha=0.3, cmap=cmap) \n",
        "  plt.xlim(xx1.min(), xx1.max()) \n",
        "  plt.ylim(xx2.min(), xx2.max()) \n",
        "  for idx, cl in enumerate(np.unique(y)): \n",
        "    plt.scatter(x=X[y == cl, 0], y=X[y == cl, 1], alpha=0.8, c=colors[idx], marker=markers[idx], label=cl, edgecolor='black')\n",
        "    # highlight test examples \n",
        "    if test_idx: \n",
        "      # plot all examples\n",
        "      X_test, y_test = X[test_idx, :], y[test_idx] \n",
        "      plt.scatter(X_test[:, 0], X_test[:, 1], c='', edgecolor='black', alpha=1.0,linewidth=1, marker='o', s=100, label='test set') "
      ],
      "metadata": {
        "id": "GVAP1auxaEte"
      },
      "execution_count": null,
      "outputs": []
    },
    {
      "cell_type": "code",
      "source": [
        "X_combined_std = np.vstack((X_train_std, X_test_std)) \n",
        "y_combined = np.hstack((y_train, y_test)) \n",
        "plot_decision_regions(X=X_combined_std, y=y_combined, classifier=ppn, test_idx=range(105, 150)) \n",
        "plt.xlabel('petal length [standardized]') \n",
        "plt.ylabel('petal width [standardized]') \n",
        "plt.legend(loc='upper left')\n",
        "plt.tight_layout() \n",
        "plt.show() "
      ],
      "metadata": {
        "colab": {
          "base_uri": "https://localhost:8080/",
          "height": 314
        },
        "id": "vHRjtlb5a5oW",
        "outputId": "d6c0bdb6-96ef-46c0-b879-5424993619d8"
      },
      "execution_count": null,
      "outputs": [
        {
          "output_type": "stream",
          "name": "stderr",
          "text": [
            "/usr/local/lib/python3.7/dist-packages/ipykernel_launcher.py:21: MatplotlibDeprecationWarning: Using a string of single character colors as a color sequence is deprecated. Use an explicit list instead.\n"
          ]
        },
        {
          "output_type": "display_data",
          "data": {
            "text/plain": [
              "<Figure size 432x288 with 1 Axes>"
            ],
            "image/png": "[encoded data removed]"
          },
          "metadata": {
            "needs_background": "light"
          }
        }
      ]
    },
    {
      "cell_type": "code",
      "source": [
        "import matplotlib.pyplot as plt\n",
        "import numpy as np\n",
        "\n",
        "class Perceptron(object):\n",
        "  def __init__(self, eta=0.001, n_iter=50, random_state=1):\n",
        "    self.eta = eta\n",
        "    self.n_iter = n_iter\n",
        "    self.random_state = random_state\n",
        "  \n",
        "  def net_input(self, X):\n",
        "    return np.dot(X, self.w_[1:]) + self.w_[0]\n",
        "  \n",
        "  def predict(self, X):\n",
        "    return np.where(self.net_input(X) >= 0.0, 1, -1)\n",
        "  \n",
        "  def fit(self, X, y):\n",
        "    rgen = np.random.RandomState(self.random_state)\n",
        "    self.w_ = rgen.normal(loc=0.0, scale=0.01, size = 1 + X.shape[1])\n",
        "    self.errors_ = []\n",
        "    for _ in range(self.n_iter):\n",
        "      errors = 0\n",
        "      \n",
        "      for xi, target in zip(X,y):\n",
        "        update = self.eta * (target - self.predict(xi))\n",
        "        self.w_[1:] += update * xi\n",
        "        self.w_[0] += update\n",
        "        errors += int(update != 0.0)\n",
        "      self.errors_.append(errors)\n",
        "    return self"
      ],
      "metadata": {
        "id": "CwrNzqDUpWdz"
      },
      "execution_count": null,
      "outputs": []
    },
    {
      "cell_type": "code",
      "source": [
        "def target_function(list_x):\n",
        "  result = []\n",
        "  for (x1, x2) in list_x:\n",
        "    y = int(x1 > 0) \n",
        "    result.append(y)\n",
        "  return np.asarray(result).flatten()\n",
        "list_x = np.random.randint(100, 150, size=(40, 2))\n",
        "list_y = target_function(list_x)\n",
        "print(list_x)\n",
        "print(list_y)"
      ],
      "metadata": {
        "id": "dS5p2qF7pXtV"
      },
      "execution_count": null,
      "outputs": []
    },
    {
      "cell_type": "code",
      "source": [
        "plot = list_x.transpose()\n",
        "plt.scatter(plot[0], plot[1])"
      ],
      "metadata": {
        "id": "UTkHXQn5pg32"
      },
      "execution_count": null,
      "outputs": []
    },
    {
      "cell_type": "code",
      "source": [
        "ppn = Perceptron(eta=0.1, n_iter=10)\n",
        "ppn.fit(list_x, list_y)\n",
        "plt.plot(range(1, len(ppn.errors_) + 1), ppn.errors_, marker='o')\n",
        "plt.xlabel('Epochs')\n",
        "plt.ylabel('Number of updates')\n",
        "plt.show()"
      ],
      "metadata": {
        "id": "39du4rQxpkm-"
      },
      "execution_count": null,
      "outputs": []
    }
  ]
}