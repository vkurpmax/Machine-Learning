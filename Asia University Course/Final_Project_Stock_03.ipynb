{
  "nbformat": 4,
  "nbformat_minor": 0,
  "metadata": {
    "colab": {
      "provenance": [],
      "authorship_tag": "ABX9TyMQmLs4S+7FKMoIq6Qd5Wzd",
      "include_colab_link": true
    },
    "kernelspec": {
      "name": "python3",
      "display_name": "Python 3"
    },
    "language_info": {
      "name": "python"
    }
  },
  "cells": [
    {
      "cell_type": "markdown",
      "metadata": {
        "id": "view-in-github",
        "colab_type": "text"
      },
      "source": [
        "<a href=\"https://colab.research.google.com/github/vkurpmax/Machine-Learning/blob/main/Asia%20University%20Course/Final_Project_Stock_03.ipynb\" target=\"_parent\"><img src=\"https://colab.research.google.com/assets/colab-badge.svg\" alt=\"Open In Colab\"/></a>"
      ]
    },
    {
      "cell_type": "markdown",
      "source": [
        "This Project use Logistic Regression to Predict Stock"
      ],
      "metadata": {
        "id": "miKtz8X2k70x"
      }
    },
    {
      "cell_type": "code",
      "source": [
        "!pip install yfinance"
      ],
      "metadata": {
        "colab": {
          "base_uri": "https://localhost:8080/"
        },
        "id": "Rvqz-4Q1UicH",
        "outputId": "2fa22894-7d7e-4d12-976e-56ddc42ff0c1"
      },
      "execution_count": null,
      "outputs": [
        {
          "output_type": "stream",
          "name": "stdout",
          "text": [
            "Looking in indexes: https://pypi.org/simple, https://us-python.pkg.dev/colab-wheels/public/simple/\n",
            "Collecting yfinance\n",
            "  Downloading yfinance-0.1.93-py2.py3-none-any.whl (31 kB)\n",
            "Collecting requests>=2.26\n",
            "  Downloading requests-2.28.1-py3-none-any.whl (62 kB)\n",
            "\u001b[K     |████████████████████████████████| 62 kB 1.3 MB/s \n",
            "\u001b[?25hRequirement already satisfied: pandas>=1.3.0 in /usr/local/lib/python3.8/dist-packages (from yfinance) (1.3.5)\n",
            "Requirement already satisfied: appdirs>=1.4.4 in /usr/local/lib/python3.8/dist-packages (from yfinance) (1.4.4)\n",
            "Requirement already satisfied: lxml>=4.9.1 in /usr/local/lib/python3.8/dist-packages (from yfinance) (4.9.2)\n",
            "Collecting cryptography>=3.3.2\n",
            "  Downloading cryptography-38.0.4-cp36-abi3-manylinux_2_24_x86_64.whl (4.0 MB)\n",
            "\u001b[K     |████████████████████████████████| 4.0 MB 36.2 MB/s \n",
            "\u001b[?25hRequirement already satisfied: numpy>=1.16.5 in /usr/local/lib/python3.8/dist-packages (from yfinance) (1.21.6)\n",
            "Requirement already satisfied: multitasking>=0.0.7 in /usr/local/lib/python3.8/dist-packages (from yfinance) (0.0.11)\n",
            "Requirement already satisfied: cffi>=1.12 in /usr/local/lib/python3.8/dist-packages (from cryptography>=3.3.2->yfinance) (1.15.1)\n",
            "Requirement already satisfied: pycparser in /usr/local/lib/python3.8/dist-packages (from cffi>=1.12->cryptography>=3.3.2->yfinance) (2.21)\n",
            "Requirement already satisfied: python-dateutil>=2.7.3 in /usr/local/lib/python3.8/dist-packages (from pandas>=1.3.0->yfinance) (2.8.2)\n",
            "Requirement already satisfied: pytz>=2017.3 in /usr/local/lib/python3.8/dist-packages (from pandas>=1.3.0->yfinance) (2022.6)\n",
            "Requirement already satisfied: six>=1.5 in /usr/local/lib/python3.8/dist-packages (from python-dateutil>=2.7.3->pandas>=1.3.0->yfinance) (1.15.0)\n",
            "Requirement already satisfied: urllib3<1.27,>=1.21.1 in /usr/local/lib/python3.8/dist-packages (from requests>=2.26->yfinance) (1.24.3)\n",
            "Requirement already satisfied: charset-normalizer<3,>=2 in /usr/local/lib/python3.8/dist-packages (from requests>=2.26->yfinance) (2.1.1)\n",
            "Requirement already satisfied: certifi>=2017.4.17 in /usr/local/lib/python3.8/dist-packages (from requests>=2.26->yfinance) (2022.12.7)\n",
            "Requirement already satisfied: idna<4,>=2.5 in /usr/local/lib/python3.8/dist-packages (from requests>=2.26->yfinance) (2.10)\n",
            "Installing collected packages: requests, cryptography, yfinance\n",
            "  Attempting uninstall: requests\n",
            "    Found existing installation: requests 2.23.0\n",
            "    Uninstalling requests-2.23.0:\n",
            "      Successfully uninstalled requests-2.23.0\n",
            "Successfully installed cryptography-38.0.4 requests-2.28.1 yfinance-0.1.93\n"
          ]
        }
      ]
    },
    {
      "cell_type": "code",
      "execution_count": null,
      "metadata": {
        "id": "yOLpibjiUb18"
      },
      "outputs": [],
      "source": [
        "import yfinance as yf\n",
        "import numpy as np"
      ]
    },
    {
      "cell_type": "code",
      "source": [
        "df = yf.download('AAPL', start='2022-01-01')"
      ],
      "metadata": {
        "colab": {
          "base_uri": "https://localhost:8080/"
        },
        "id": "Q78WN2_0UoQN",
        "outputId": "e1150e79-bf8e-4c7d-f396-f5200dc8a542"
      },
      "execution_count": null,
      "outputs": [
        {
          "output_type": "stream",
          "name": "stdout",
          "text": [
            "\r[*********************100%***********************]  1 of 1 completed\n"
          ]
        }
      ]
    },
    {
      "cell_type": "code",
      "source": [
        "df['returns'] = np.log(df.Close.pct_change() + 1)"
      ],
      "metadata": {
        "id": "80ki96UHUwu-"
      },
      "execution_count": null,
      "outputs": []
    },
    {
      "cell_type": "code",
      "source": [
        "df['direction'] = [1 if i > 0 else -1 for i in df.returns]"
      ],
      "metadata": {
        "id": "dVswtLjOU5Mv"
      },
      "execution_count": null,
      "outputs": []
    },
    {
      "cell_type": "code",
      "source": [
        "def lagit(df, lags):\n",
        "  names = []\n",
        "  for i in range (1, lags + 1):\n",
        "    df['Lag_'+str(i)] = df['returns'].shift(i)\n",
        "    df['Lag_'+str(i)+'_dir'] = [1 if j > 0 else -1 for j in df['Lag_'+str(i)]]\n",
        "    names.append('Lag_'+str(i)+'_dir')\n",
        "  return names"
      ],
      "metadata": {
        "id": "O2NPTvgRVAJ5"
      },
      "execution_count": null,
      "outputs": []
    },
    {
      "cell_type": "code",
      "source": [
        "dirnames = lagit(df, 5)"
      ],
      "metadata": {
        "id": "Pw74HlJYVwbO"
      },
      "execution_count": null,
      "outputs": []
    },
    {
      "cell_type": "code",
      "source": [
        "dirnames"
      ],
      "metadata": {
        "colab": {
          "base_uri": "https://localhost:8080/"
        },
        "id": "hkbde425WC3a",
        "outputId": "e79d7dff-07e5-47d9-f763-b0c68f7fd9ea"
      },
      "execution_count": null,
      "outputs": [
        {
          "output_type": "execute_result",
          "data": {
            "text/plain": [
              "['Lag_1_dir', 'Lag_2_dir', 'Lag_3_dir', 'Lag_4_dir', 'Lag_5_dir']"
            ]
          },
          "metadata": {},
          "execution_count": 41
        }
      ]
    },
    {
      "cell_type": "code",
      "source": [
        "df"
      ],
      "metadata": {
        "colab": {
          "base_uri": "https://localhost:8080/",
          "height": 692
        },
        "id": "yIoW5V8tWEjC",
        "outputId": "4eb5490a-2db8-4975-bfe7-21ee4d068a05"
      },
      "execution_count": null,
      "outputs": [
        {
          "output_type": "execute_result",
          "data": {
            "text/plain": [
              "                  Open        High         Low       Close   Adj Close  \\\n",
              "Date                                                                     \n",
              "2022-01-11  172.320007  175.179993  170.820007  175.080002  174.069733   \n",
              "2022-01-12  176.119995  177.179993  174.820007  175.529999  174.517136   \n",
              "2022-01-13  175.779999  176.619995  171.789993  172.190002  171.196411   \n",
              "2022-01-14  171.339996  173.779999  171.089996  173.070007  172.071350   \n",
              "2022-01-18  171.509995  172.539993  169.410004  169.800003  168.820206   \n",
              "...                ...         ...         ...         ...         ...   \n",
              "2022-12-12  142.699997  144.500000  141.059998  144.490005  144.490005   \n",
              "2022-12-13  149.500000  149.970001  144.240005  145.470001  145.470001   \n",
              "2022-12-14  145.350006  146.660004  141.160004  143.210007  143.210007   \n",
              "2022-12-15  141.110001  141.800003  136.029999  136.500000  136.500000   \n",
              "2022-12-16  136.690002  137.649994  133.729996  134.509995  134.509995   \n",
              "\n",
              "               Volume   returns  direction     Lag_1  Lag_1_dir     Lag_2  \\\n",
              "Date                                                                        \n",
              "2022-01-11   76138300  0.016644          1       NaN         -1       NaN   \n",
              "2022-01-12   74805200  0.002567          1  0.016644          1       NaN   \n",
              "2022-01-13   84505800 -0.019211         -1  0.002567          1  0.016644   \n",
              "2022-01-14   80440800  0.005098          1 -0.019211         -1  0.002567   \n",
              "2022-01-18   90956700 -0.019075         -1  0.005098          1 -0.019211   \n",
              "...               ...       ...        ...       ...        ...       ...   \n",
              "2022-12-12   70462700  0.016257          1 -0.003441         -1  0.012060   \n",
              "2022-12-13   93886200  0.006760          1  0.016257          1 -0.003441   \n",
              "2022-12-14   82291200 -0.015658         -1  0.006760          1  0.016257   \n",
              "2022-12-15   98931900 -0.047988         -1 -0.015658         -1  0.006760   \n",
              "2022-12-16  160080100 -0.014686         -1 -0.047988         -1 -0.015658   \n",
              "\n",
              "            Lag_2_dir     Lag_3  Lag_3_dir     Lag_4  Lag_4_dir     Lag_5  \\\n",
              "Date                                                                        \n",
              "2022-01-11         -1       NaN         -1       NaN         -1       NaN   \n",
              "2022-01-12         -1       NaN         -1       NaN         -1       NaN   \n",
              "2022-01-13          1       NaN         -1       NaN         -1       NaN   \n",
              "2022-01-14          1  0.016644          1       NaN         -1       NaN   \n",
              "2022-01-18         -1  0.002567          1  0.016644          1       NaN   \n",
              "...               ...       ...        ...       ...        ...       ...   \n",
              "2022-12-12          1 -0.013881         -1 -0.025697         -1 -0.008015   \n",
              "2022-12-13         -1  0.012060          1 -0.013881         -1 -0.025697   \n",
              "2022-12-14          1 -0.003441         -1  0.012060          1 -0.013881   \n",
              "2022-12-15          1  0.016257          1 -0.003441         -1  0.012060   \n",
              "2022-12-16         -1  0.006760          1  0.016257          1 -0.003441   \n",
              "\n",
              "            Lag_5_dir  prediction_Logit  strat_Logit  \n",
              "Date                                                  \n",
              "2022-01-11         -1                -1    -0.016644  \n",
              "2022-01-12         -1                -1    -0.002567  \n",
              "2022-01-13         -1                -1     0.019211  \n",
              "2022-01-14         -1                -1    -0.005098  \n",
              "2022-01-18         -1                 1    -0.019075  \n",
              "...               ...               ...          ...  \n",
              "2022-12-12         -1                -1    -0.016257  \n",
              "2022-12-13         -1                 1     0.006760  \n",
              "2022-12-14         -1                -1     0.015658  \n",
              "2022-12-15          1                -1     0.047988  \n",
              "2022-12-16         -1                 1    -0.014686  \n",
              "\n",
              "[236 rows x 20 columns]"
            ],
            "text/html": [
              "\n",
              "  <div id=\"df-867411a3-a4e9-4349-86db-462cb0cffc7c\">\n",
              "    <div class=\"colab-df-container\">\n",
              "      <div>\n",
              "<style scoped>\n",
              "    .dataframe tbody tr th:only-of-type {\n",
              "        vertical-align: middle;\n",
              "    }\n",
              "\n",
              "    .dataframe tbody tr th {\n",
              "        vertical-align: top;\n",
              "    }\n",
              "\n",
              "    .dataframe thead th {\n",
              "        text-align: right;\n",
              "    }\n",
              "</style>\n",
              "<table border=\"1\" class=\"dataframe\">\n",
              "  <thead>\n",
              "    <tr style=\"text-align: right;\">\n",
              "      <th></th>\n",
              "      <th>Open</th>\n",
              "      <th>High</th>\n",
              "      <th>Low</th>\n",
              "      <th>Close</th>\n",
              "      <th>Adj Close</th>\n",
              "      <th>Volume</th>\n",
              "      <th>returns</th>\n",
              "      <th>direction</th>\n",
              "      <th>Lag_1</th>\n",
              "      <th>Lag_1_dir</th>\n",
              "      <th>Lag_2</th>\n",
              "      <th>Lag_2_dir</th>\n",
              "      <th>Lag_3</th>\n",
              "      <th>Lag_3_dir</th>\n",
              "      <th>Lag_4</th>\n",
              "      <th>Lag_4_dir</th>\n",
              "      <th>Lag_5</th>\n",
              "      <th>Lag_5_dir</th>\n",
              "      <th>prediction_Logit</th>\n",
              "      <th>strat_Logit</th>\n",
              "    </tr>\n",
              "    <tr>\n",
              "      <th>Date</th>\n",
              "      <th></th>\n",
              "      <th></th>\n",
              "      <th></th>\n",
              "      <th></th>\n",
              "      <th></th>\n",
              "      <th></th>\n",
              "      <th></th>\n",
              "      <th></th>\n",
              "      <th></th>\n",
              "      <th></th>\n",
              "      <th></th>\n",
              "      <th></th>\n",
              "      <th></th>\n",
              "      <th></th>\n",
              "      <th></th>\n",
              "      <th></th>\n",
              "      <th></th>\n",
              "      <th></th>\n",
              "      <th></th>\n",
              "      <th></th>\n",
              "    </tr>\n",
              "  </thead>\n",
              "  <tbody>\n",
              "    <tr>\n",
              "      <th>2022-01-11</th>\n",
              "      <td>172.320007</td>\n",
              "      <td>175.179993</td>\n",
              "      <td>170.820007</td>\n",
              "      <td>175.080002</td>\n",
              "      <td>174.069733</td>\n",
              "      <td>76138300</td>\n",
              "      <td>0.016644</td>\n",
              "      <td>1</td>\n",
              "      <td>NaN</td>\n",
              "      <td>-1</td>\n",
              "      <td>NaN</td>\n",
              "      <td>-1</td>\n",
              "      <td>NaN</td>\n",
              "      <td>-1</td>\n",
              "      <td>NaN</td>\n",
              "      <td>-1</td>\n",
              "      <td>NaN</td>\n",
              "      <td>-1</td>\n",
              "      <td>-1</td>\n",
              "      <td>-0.016644</td>\n",
              "    </tr>\n",
              "    <tr>\n",
              "      <th>2022-01-12</th>\n",
              "      <td>176.119995</td>\n",
              "      <td>177.179993</td>\n",
              "      <td>174.820007</td>\n",
              "      <td>175.529999</td>\n",
              "      <td>174.517136</td>\n",
              "      <td>74805200</td>\n",
              "      <td>0.002567</td>\n",
              "      <td>1</td>\n",
              "      <td>0.016644</td>\n",
              "      <td>1</td>\n",
              "      <td>NaN</td>\n",
              "      <td>-1</td>\n",
              "      <td>NaN</td>\n",
              "      <td>-1</td>\n",
              "      <td>NaN</td>\n",
              "      <td>-1</td>\n",
              "      <td>NaN</td>\n",
              "      <td>-1</td>\n",
              "      <td>-1</td>\n",
              "      <td>-0.002567</td>\n",
              "    </tr>\n",
              "    <tr>\n",
              "      <th>2022-01-13</th>\n",
              "      <td>175.779999</td>\n",
              "      <td>176.619995</td>\n",
              "      <td>171.789993</td>\n",
              "      <td>172.190002</td>\n",
              "      <td>171.196411</td>\n",
              "      <td>84505800</td>\n",
              "      <td>-0.019211</td>\n",
              "      <td>-1</td>\n",
              "      <td>0.002567</td>\n",
              "      <td>1</td>\n",
              "      <td>0.016644</td>\n",
              "      <td>1</td>\n",
              "      <td>NaN</td>\n",
              "      <td>-1</td>\n",
              "      <td>NaN</td>\n",
              "      <td>-1</td>\n",
              "      <td>NaN</td>\n",
              "      <td>-1</td>\n",
              "      <td>-1</td>\n",
              "      <td>0.019211</td>\n",
              "    </tr>\n",
              "    <tr>\n",
              "      <th>2022-01-14</th>\n",
              "      <td>171.339996</td>\n",
              "      <td>173.779999</td>\n",
              "      <td>171.089996</td>\n",
              "      <td>173.070007</td>\n",
              "      <td>172.071350</td>\n",
              "      <td>80440800</td>\n",
              "      <td>0.005098</td>\n",
              "      <td>1</td>\n",
              "      <td>-0.019211</td>\n",
              "      <td>-1</td>\n",
              "      <td>0.002567</td>\n",
              "      <td>1</td>\n",
              "      <td>0.016644</td>\n",
              "      <td>1</td>\n",
              "      <td>NaN</td>\n",
              "      <td>-1</td>\n",
              "      <td>NaN</td>\n",
              "      <td>-1</td>\n",
              "      <td>-1</td>\n",
              "      <td>-0.005098</td>\n",
              "    </tr>\n",
              "    <tr>\n",
              "      <th>2022-01-18</th>\n",
              "      <td>171.509995</td>\n",
              "      <td>172.539993</td>\n",
              "      <td>169.410004</td>\n",
              "      <td>169.800003</td>\n",
              "      <td>168.820206</td>\n",
              "      <td>90956700</td>\n",
              "      <td>-0.019075</td>\n",
              "      <td>-1</td>\n",
              "      <td>0.005098</td>\n",
              "      <td>1</td>\n",
              "      <td>-0.019211</td>\n",
              "      <td>-1</td>\n",
              "      <td>0.002567</td>\n",
              "      <td>1</td>\n",
              "      <td>0.016644</td>\n",
              "      <td>1</td>\n",
              "      <td>NaN</td>\n",
              "      <td>-1</td>\n",
              "      <td>1</td>\n",
              "      <td>-0.019075</td>\n",
              "    </tr>\n",
              "    <tr>\n",
              "      <th>...</th>\n",
              "      <td>...</td>\n",
              "      <td>...</td>\n",
              "      <td>...</td>\n",
              "      <td>...</td>\n",
              "      <td>...</td>\n",
              "      <td>...</td>\n",
              "      <td>...</td>\n",
              "      <td>...</td>\n",
              "      <td>...</td>\n",
              "      <td>...</td>\n",
              "      <td>...</td>\n",
              "      <td>...</td>\n",
              "      <td>...</td>\n",
              "      <td>...</td>\n",
              "      <td>...</td>\n",
              "      <td>...</td>\n",
              "      <td>...</td>\n",
              "      <td>...</td>\n",
              "      <td>...</td>\n",
              "      <td>...</td>\n",
              "    </tr>\n",
              "    <tr>\n",
              "      <th>2022-12-12</th>\n",
              "      <td>142.699997</td>\n",
              "      <td>144.500000</td>\n",
              "      <td>141.059998</td>\n",
              "      <td>144.490005</td>\n",
              "      <td>144.490005</td>\n",
              "      <td>70462700</td>\n",
              "      <td>0.016257</td>\n",
              "      <td>1</td>\n",
              "      <td>-0.003441</td>\n",
              "      <td>-1</td>\n",
              "      <td>0.012060</td>\n",
              "      <td>1</td>\n",
              "      <td>-0.013881</td>\n",
              "      <td>-1</td>\n",
              "      <td>-0.025697</td>\n",
              "      <td>-1</td>\n",
              "      <td>-0.008015</td>\n",
              "      <td>-1</td>\n",
              "      <td>-1</td>\n",
              "      <td>-0.016257</td>\n",
              "    </tr>\n",
              "    <tr>\n",
              "      <th>2022-12-13</th>\n",
              "      <td>149.500000</td>\n",
              "      <td>149.970001</td>\n",
              "      <td>144.240005</td>\n",
              "      <td>145.470001</td>\n",
              "      <td>145.470001</td>\n",
              "      <td>93886200</td>\n",
              "      <td>0.006760</td>\n",
              "      <td>1</td>\n",
              "      <td>0.016257</td>\n",
              "      <td>1</td>\n",
              "      <td>-0.003441</td>\n",
              "      <td>-1</td>\n",
              "      <td>0.012060</td>\n",
              "      <td>1</td>\n",
              "      <td>-0.013881</td>\n",
              "      <td>-1</td>\n",
              "      <td>-0.025697</td>\n",
              "      <td>-1</td>\n",
              "      <td>1</td>\n",
              "      <td>0.006760</td>\n",
              "    </tr>\n",
              "    <tr>\n",
              "      <th>2022-12-14</th>\n",
              "      <td>145.350006</td>\n",
              "      <td>146.660004</td>\n",
              "      <td>141.160004</td>\n",
              "      <td>143.210007</td>\n",
              "      <td>143.210007</td>\n",
              "      <td>82291200</td>\n",
              "      <td>-0.015658</td>\n",
              "      <td>-1</td>\n",
              "      <td>0.006760</td>\n",
              "      <td>1</td>\n",
              "      <td>0.016257</td>\n",
              "      <td>1</td>\n",
              "      <td>-0.003441</td>\n",
              "      <td>-1</td>\n",
              "      <td>0.012060</td>\n",
              "      <td>1</td>\n",
              "      <td>-0.013881</td>\n",
              "      <td>-1</td>\n",
              "      <td>-1</td>\n",
              "      <td>0.015658</td>\n",
              "    </tr>\n",
              "    <tr>\n",
              "      <th>2022-12-15</th>\n",
              "      <td>141.110001</td>\n",
              "      <td>141.800003</td>\n",
              "      <td>136.029999</td>\n",
              "      <td>136.500000</td>\n",
              "      <td>136.500000</td>\n",
              "      <td>98931900</td>\n",
              "      <td>-0.047988</td>\n",
              "      <td>-1</td>\n",
              "      <td>-0.015658</td>\n",
              "      <td>-1</td>\n",
              "      <td>0.006760</td>\n",
              "      <td>1</td>\n",
              "      <td>0.016257</td>\n",
              "      <td>1</td>\n",
              "      <td>-0.003441</td>\n",
              "      <td>-1</td>\n",
              "      <td>0.012060</td>\n",
              "      <td>1</td>\n",
              "      <td>-1</td>\n",
              "      <td>0.047988</td>\n",
              "    </tr>\n",
              "    <tr>\n",
              "      <th>2022-12-16</th>\n",
              "      <td>136.690002</td>\n",
              "      <td>137.649994</td>\n",
              "      <td>133.729996</td>\n",
              "      <td>134.509995</td>\n",
              "      <td>134.509995</td>\n",
              "      <td>160080100</td>\n",
              "      <td>-0.014686</td>\n",
              "      <td>-1</td>\n",
              "      <td>-0.047988</td>\n",
              "      <td>-1</td>\n",
              "      <td>-0.015658</td>\n",
              "      <td>-1</td>\n",
              "      <td>0.006760</td>\n",
              "      <td>1</td>\n",
              "      <td>0.016257</td>\n",
              "      <td>1</td>\n",
              "      <td>-0.003441</td>\n",
              "      <td>-1</td>\n",
              "      <td>1</td>\n",
              "      <td>-0.014686</td>\n",
              "    </tr>\n",
              "  </tbody>\n",
              "</table>\n",
              "<p>236 rows × 20 columns</p>\n",
              "</div>\n",
              "      <button class=\"colab-df-convert\" onclick=\"convertToInteractive('df-867411a3-a4e9-4349-86db-462cb0cffc7c')\"\n",
              "              title=\"Convert this dataframe to an interactive table.\"\n",
              "              style=\"display:none;\">\n",
              "        \n",
              "  <svg xmlns=\"http://www.w3.org/2000/svg\" height=\"24px\"viewBox=\"0 0 24 24\"\n",
              "       width=\"24px\">\n",
              "    <path d=\"M0 0h24v24H0V0z\" fill=\"none\"/>\n",
              "    <path d=\"M18.56 5.44l.94 2.06.94-2.06 2.06-.94-2.06-.94-.94-2.06-.94 2.06-2.06.94zm-11 1L8.5 8.5l.94-2.06 2.06-.94-2.06-.94L8.5 2.5l-.94 2.06-2.06.94zm10 10l.94 2.06.94-2.06 2.06-.94-2.06-.94-.94-2.06-.94 2.06-2.06.94z\"/><path d=\"M17.41 7.96l-1.37-1.37c-.4-.4-.92-.59-1.43-.59-.52 0-1.04.2-1.43.59L10.3 9.45l-7.72 7.72c-.78.78-.78 2.05 0 2.83L4 21.41c.39.39.9.59 1.41.59.51 0 1.02-.2 1.41-.59l7.78-7.78 2.81-2.81c.8-.78.8-2.07 0-2.86zM5.41 20L4 18.59l7.72-7.72 1.47 1.35L5.41 20z\"/>\n",
              "  </svg>\n",
              "      </button>\n",
              "      \n",
              "  <style>\n",
              "    .colab-df-container {\n",
              "      display:flex;\n",
              "      flex-wrap:wrap;\n",
              "      gap: 12px;\n",
              "    }\n",
              "\n",
              "    .colab-df-convert {\n",
              "      background-color: #E8F0FE;\n",
              "      border: none;\n",
              "      border-radius: 50%;\n",
              "      cursor: pointer;\n",
              "      display: none;\n",
              "      fill: #1967D2;\n",
              "      height: 32px;\n",
              "      padding: 0 0 0 0;\n",
              "      width: 32px;\n",
              "    }\n",
              "\n",
              "    .colab-df-convert:hover {\n",
              "      background-color: #E2EBFA;\n",
              "      box-shadow: 0px 1px 2px rgba(60, 64, 67, 0.3), 0px 1px 3px 1px rgba(60, 64, 67, 0.15);\n",
              "      fill: #174EA6;\n",
              "    }\n",
              "\n",
              "    [theme=dark] .colab-df-convert {\n",
              "      background-color: #3B4455;\n",
              "      fill: #D2E3FC;\n",
              "    }\n",
              "\n",
              "    [theme=dark] .colab-df-convert:hover {\n",
              "      background-color: #434B5C;\n",
              "      box-shadow: 0px 1px 3px 1px rgba(0, 0, 0, 0.15);\n",
              "      filter: drop-shadow(0px 1px 2px rgba(0, 0, 0, 0.3));\n",
              "      fill: #FFFFFF;\n",
              "    }\n",
              "  </style>\n",
              "\n",
              "      <script>\n",
              "        const buttonEl =\n",
              "          document.querySelector('#df-867411a3-a4e9-4349-86db-462cb0cffc7c button.colab-df-convert');\n",
              "        buttonEl.style.display =\n",
              "          google.colab.kernel.accessAllowed ? 'block' : 'none';\n",
              "\n",
              "        async function convertToInteractive(key) {\n",
              "          const element = document.querySelector('#df-867411a3-a4e9-4349-86db-462cb0cffc7c');\n",
              "          const dataTable =\n",
              "            await google.colab.kernel.invokeFunction('convertToInteractive',\n",
              "                                                     [key], {});\n",
              "          if (!dataTable) return;\n",
              "\n",
              "          const docLinkHtml = 'Like what you see? Visit the ' +\n",
              "            '<a target=\"_blank\" href=https://colab.research.google.com/notebooks/data_table.ipynb>data table notebook</a>'\n",
              "            + ' to learn more about interactive tables.';\n",
              "          element.innerHTML = '';\n",
              "          dataTable['output_type'] = 'display_data';\n",
              "          await google.colab.output.renderOutput(dataTable, element);\n",
              "          const docLink = document.createElement('div');\n",
              "          docLink.innerHTML = docLinkHtml;\n",
              "          element.appendChild(docLink);\n",
              "        }\n",
              "      </script>\n",
              "    </div>\n",
              "  </div>\n",
              "  "
            ]
          },
          "metadata": {},
          "execution_count": 42
        }
      ]
    },
    {
      "cell_type": "code",
      "source": [
        "df.dropna(inplace=True)"
      ],
      "metadata": {
        "id": "bkLp94liWScM"
      },
      "execution_count": null,
      "outputs": []
    },
    {
      "cell_type": "code",
      "source": [
        "from sklearn.linear_model import LogisticRegression"
      ],
      "metadata": {
        "id": "i5c8Ur0CWWQo"
      },
      "execution_count": null,
      "outputs": []
    },
    {
      "cell_type": "code",
      "source": [
        "model = LogisticRegression()"
      ],
      "metadata": {
        "id": "fz6v0VjnWZ_H"
      },
      "execution_count": null,
      "outputs": []
    },
    {
      "cell_type": "code",
      "source": [
        "model.fit(df[dirnames], df['direction'])"
      ],
      "metadata": {
        "colab": {
          "base_uri": "https://localhost:8080/"
        },
        "id": "CH95w4yFWcfN",
        "outputId": "e480627f-8cec-4f55-ad48-03d3a9dedc24"
      },
      "execution_count": null,
      "outputs": [
        {
          "output_type": "execute_result",
          "data": {
            "text/plain": [
              "LogisticRegression()"
            ]
          },
          "metadata": {},
          "execution_count": 46
        }
      ]
    },
    {
      "cell_type": "code",
      "source": [
        "df['prediction_Logit'] = model.predict(df[dirnames])"
      ],
      "metadata": {
        "id": "CudzEsoGWoHs"
      },
      "execution_count": null,
      "outputs": []
    },
    {
      "cell_type": "code",
      "source": [
        "df['prediction_Logit']"
      ],
      "metadata": {
        "colab": {
          "base_uri": "https://localhost:8080/"
        },
        "id": "SrWZ9jI7Wx4j",
        "outputId": "8de21f1f-1f0c-4959-9dfc-7224b8418cdc"
      },
      "execution_count": null,
      "outputs": [
        {
          "output_type": "execute_result",
          "data": {
            "text/plain": [
              "Date\n",
              "2022-01-19   -1\n",
              "2022-01-20    1\n",
              "2022-01-21   -1\n",
              "2022-01-24    1\n",
              "2022-01-25   -1\n",
              "             ..\n",
              "2022-12-12   -1\n",
              "2022-12-13    1\n",
              "2022-12-14   -1\n",
              "2022-12-15   -1\n",
              "2022-12-16    1\n",
              "Name: prediction_Logit, Length: 231, dtype: int64"
            ]
          },
          "metadata": {},
          "execution_count": 48
        }
      ]
    },
    {
      "cell_type": "code",
      "source": [
        "df['strat_Logit'] = df['prediction_Logit'] * df['returns']"
      ],
      "metadata": {
        "id": "IRx0ICdnW0yS"
      },
      "execution_count": null,
      "outputs": []
    },
    {
      "cell_type": "code",
      "source": [
        "np.exp(df[['returns', 'strat_Logit']].sum())"
      ],
      "metadata": {
        "colab": {
          "base_uri": "https://localhost:8080/"
        },
        "id": "N1bj9JGtXHc-",
        "outputId": "e1f87ee2-7366-4039-bbd7-21de9035bc9b"
      },
      "execution_count": null,
      "outputs": [
        {
          "output_type": "execute_result",
          "data": {
            "text/plain": [
              "returns        0.792167\n",
              "strat_Logit    1.261170\n",
              "dtype: float64"
            ]
          },
          "metadata": {},
          "execution_count": 50
        }
      ]
    },
    {
      "cell_type": "code",
      "source": [
        "np.exp(df[['returns', 'strat_Logit']].cumsum()).plot()"
      ],
      "metadata": {
        "colab": {
          "base_uri": "https://localhost:8080/",
          "height": 295
        },
        "id": "Q36nSJ6dXPMM",
        "outputId": "b87645d2-1e8d-4aaf-9d71-014c00c50ba2"
      },
      "execution_count": null,
      "outputs": [
        {
          "output_type": "execute_result",
          "data": {
            "text/plain": [
              "<matplotlib.axes._subplots.AxesSubplot at 0x7f5a116a0460>"
            ]
          },
          "metadata": {},
          "execution_count": 51
        },
        {
          "output_type": "display_data",
          "data": {
            "text/plain": [
              "<Figure size 432x288 with 1 Axes>"
            ],
            "image/png": "[encoded data removed]"
          },
          "metadata": {
            "needs_background": "light"
          }
        }
      ]
    },
    {
      "cell_type": "code",
      "source": [
        "from sklearn.model_selection import train_test_split"
      ],
      "metadata": {
        "id": "MrqyopP9Xc8L"
      },
      "execution_count": null,
      "outputs": []
    },
    {
      "cell_type": "code",
      "source": [
        "train, test = train_test_split(df, shuffle=False, test_size=0.25, random_state=0)"
      ],
      "metadata": {
        "id": "6-9am_A8Xj2l"
      },
      "execution_count": null,
      "outputs": []
    },
    {
      "cell_type": "code",
      "source": [
        "train = train.copy()"
      ],
      "metadata": {
        "id": "atlHPi1qX06k"
      },
      "execution_count": null,
      "outputs": []
    },
    {
      "cell_type": "code",
      "source": [
        "test = test.copy()"
      ],
      "metadata": {
        "id": "1P1GXZJUX3aW"
      },
      "execution_count": null,
      "outputs": []
    },
    {
      "cell_type": "code",
      "source": [
        "model = LogisticRegression()"
      ],
      "metadata": {
        "id": "7WnLJTXQX5Ar"
      },
      "execution_count": null,
      "outputs": []
    },
    {
      "cell_type": "code",
      "source": [
        "model.fit(train[dirnames], train['direction'])"
      ],
      "metadata": {
        "colab": {
          "base_uri": "https://localhost:8080/"
        },
        "id": "12f9pEMbX8EL",
        "outputId": "c6d5b224-44fe-4993-8d6e-bfd373943a96"
      },
      "execution_count": null,
      "outputs": [
        {
          "output_type": "execute_result",
          "data": {
            "text/plain": [
              "LogisticRegression()"
            ]
          },
          "metadata": {},
          "execution_count": 57
        }
      ]
    },
    {
      "cell_type": "code",
      "source": [
        "test['prediction_Logit'] = model.predict(test[dirnames])"
      ],
      "metadata": {
        "id": "iHCEJsUsYBsO"
      },
      "execution_count": null,
      "outputs": []
    },
    {
      "cell_type": "code",
      "source": [
        "test['strat_Logit'] = test['prediction_Logit'] * test['returns']"
      ],
      "metadata": {
        "id": "WXI7gMSGYG2U"
      },
      "execution_count": null,
      "outputs": []
    },
    {
      "cell_type": "code",
      "source": [
        "np.exp(test[['returns', 'strat_Logit']].cumsum()).plot()"
      ],
      "metadata": {
        "colab": {
          "base_uri": "https://localhost:8080/",
          "height": 305
        },
        "id": "3ibm2n4rYQJl",
        "outputId": "32c4cf88-0446-453e-f786-e459fb6479d0"
      },
      "execution_count": null,
      "outputs": [
        {
          "output_type": "execute_result",
          "data": {
            "text/plain": [
              "<matplotlib.axes._subplots.AxesSubplot at 0x7f5a11530d30>"
            ]
          },
          "metadata": {},
          "execution_count": 60
        },
        {
          "output_type": "display_data",
          "data": {
            "text/plain": [
              "<Figure size 432x288 with 1 Axes>"
            ],
            "image/png": "[encoded data removed]"
          },
          "metadata": {
            "needs_background": "light"
          }
        }
      ]
    },
    {
      "cell_type": "code",
      "source": [
        "from sklearn import metrics"
      ],
      "metadata": {
        "id": "uOIYeecyYaxi"
      },
      "execution_count": null,
      "outputs": []
    },
    {
      "cell_type": "code",
      "source": [
        "metrics.confusion_matrix(test['direction'], test['prediction_Logit'])"
      ],
      "metadata": {
        "colab": {
          "base_uri": "https://localhost:8080/"
        },
        "id": "kK--iMf1Yc7Q",
        "outputId": "1eac161c-7556-4e8c-c8f3-a7c5edb1c63c"
      },
      "execution_count": null,
      "outputs": [
        {
          "output_type": "execute_result",
          "data": {
            "text/plain": [
              "array([[21, 10],\n",
              "       [14, 13]])"
            ]
          },
          "metadata": {},
          "execution_count": 62
        }
      ]
    },
    {
      "cell_type": "code",
      "source": [
        "print(metrics.classification_report(test['direction'], test['prediction_Logit']))"
      ],
      "metadata": {
        "colab": {
          "base_uri": "https://localhost:8080/"
        },
        "id": "m_eeb6FOYjin",
        "outputId": "1dd24f8b-b1b3-4138-b85c-63fffa2c8e15"
      },
      "execution_count": null,
      "outputs": [
        {
          "output_type": "stream",
          "name": "stdout",
          "text": [
            "              precision    recall  f1-score   support\n",
            "\n",
            "          -1       0.60      0.68      0.64        31\n",
            "           1       0.57      0.48      0.52        27\n",
            "\n",
            "    accuracy                           0.59        58\n",
            "   macro avg       0.58      0.58      0.58        58\n",
            "weighted avg       0.58      0.59      0.58        58\n",
            "\n"
          ]
        }
      ]
    },
    {
      "cell_type": "code",
      "source": [],
      "metadata": {
        "id": "kPpQLbbVYxP0"
      },
      "execution_count": null,
      "outputs": []
    }
  ]
}